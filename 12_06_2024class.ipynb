{
  "nbformat": 4,
  "nbformat_minor": 0,
  "metadata": {
    "colab": {
      "provenance": [],
      "authorship_tag": "ABX9TyO4HU1GFIvtL24/9oFRzFaq",
      "include_colab_link": true
    },
    "kernelspec": {
      "name": "python3",
      "display_name": "Python 3"
    },
    "language_info": {
      "name": "python"
    }
  },
  "cells": [
    {
      "cell_type": "markdown",
      "metadata": {
        "id": "view-in-github",
        "colab_type": "text"
      },
      "source": [
        "<a href=\"https://colab.research.google.com/github/Sanket2iconic/Google-colab-files/blob/main/12_06_2024class.ipynb\" target=\"_parent\"><img src=\"https://colab.research.google.com/assets/colab-badge.svg\" alt=\"Open In Colab\"/></a>"
      ]
    },
    {
      "cell_type": "code",
      "execution_count": 28,
      "metadata": {
        "colab": {
          "base_uri": "https://localhost:8080/"
        },
        "id": "5LLLGq07EwBP",
        "outputId": "4acbf8db-9008-451f-87ad-83e0f48347f7"
      },
      "outputs": [
        {
          "output_type": "stream",
          "name": "stdout",
          "text": [
            "['my', 'name', 'is', 'sanket']\n"
          ]
        }
      ],
      "source": [
        "sen=\"my name is sanket\"\n",
        "lst=sen.split(\" \")\n",
        "print(lst)"
      ]
    },
    {
      "cell_type": "code",
      "source": [
        "lst[-1]=\"Sanket\"\n",
        "print(lst)"
      ],
      "metadata": {
        "colab": {
          "base_uri": "https://localhost:8080/"
        },
        "id": "UpGJ22_aE-hf",
        "outputId": "1f473379-9229-4588-aa85-54fde7a0f692"
      },
      "execution_count": 29,
      "outputs": [
        {
          "output_type": "stream",
          "name": "stdout",
          "text": [
            "['my', 'name', 'is', 'Sanket']\n"
          ]
        }
      ]
    },
    {
      "cell_type": "code",
      "source": [
        "lst[lst.index(\"my\")]=\"My\"\n",
        "print(lst)"
      ],
      "metadata": {
        "colab": {
          "base_uri": "https://localhost:8080/"
        },
        "id": "MIbhkdK2FPnp",
        "outputId": "dbb190c1-76bf-4b5c-b790-c57443e57395"
      },
      "execution_count": 30,
      "outputs": [
        {
          "output_type": "stream",
          "name": "stdout",
          "text": [
            "['My', 'name', 'is', 'Sanket']\n"
          ]
        }
      ]
    },
    {
      "cell_type": "code",
      "source": [
        "len(lst)"
      ],
      "metadata": {
        "colab": {
          "base_uri": "https://localhost:8080/"
        },
        "id": "j_KdHUHOFwhS",
        "outputId": "020754cb-4d45-46e5-8d62-7ee3bc48e237"
      },
      "execution_count": 31,
      "outputs": [
        {
          "output_type": "execute_result",
          "data": {
            "text/plain": [
              "4"
            ]
          },
          "metadata": {},
          "execution_count": 31
        }
      ]
    },
    {
      "cell_type": "code",
      "source": [],
      "metadata": {
        "id": "zVfR45oQK7EQ"
      },
      "execution_count": null,
      "outputs": []
    }
  ]
}