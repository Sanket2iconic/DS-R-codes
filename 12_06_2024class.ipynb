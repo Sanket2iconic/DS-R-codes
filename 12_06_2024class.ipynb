{
  "nbformat": 4,
  "nbformat_minor": 0,
  "metadata": {
    "colab": {
      "provenance": [],
      "authorship_tag": "ABX9TyNvb5mVl3rD00Sc7MxAPBG0",
      "include_colab_link": true
    },
    "kernelspec": {
      "name": "python3",
      "display_name": "Python 3"
    },
    "language_info": {
      "name": "python"
    }
  },
  "cells": [
    {
      "cell_type": "markdown",
      "metadata": {
        "id": "view-in-github",
        "colab_type": "text"
      },
      "source": [
        "<a href=\"https://colab.research.google.com/github/Sanket2iconic/Google-colab-files/blob/main/12_06_2024class.ipynb\" target=\"_parent\"><img src=\"https://colab.research.google.com/assets/colab-badge.svg\" alt=\"Open In Colab\"/></a>"
      ]
    },
    {
      "cell_type": "code",
      "execution_count": 1,
      "metadata": {
        "colab": {
          "base_uri": "https://localhost:8080/"
        },
        "id": "5LLLGq07EwBP",
        "outputId": "ce40a12f-8601-4db4-834d-88d0e4e240aa"
      },
      "outputs": [
        {
          "output_type": "stream",
          "name": "stdout",
          "text": [
            "['my', 'name', 'is', 'sanket']\n"
          ]
        }
      ],
      "source": [
        "sen=\"my name is sanket\"\n",
        "lst=sen.split(\" \")\n",
        "print(lst)"
      ]
    },
    {
      "cell_type": "code",
      "source": [
        "lst[-1]=\"Sanket\"\n",
        "print(lst)"
      ],
      "metadata": {
        "colab": {
          "base_uri": "https://localhost:8080/"
        },
        "id": "UpGJ22_aE-hf",
        "outputId": "3441d022-e2bf-4497-ea9d-6d632bcfedc6"
      },
      "execution_count": 3,
      "outputs": [
        {
          "output_type": "stream",
          "name": "stdout",
          "text": [
            "['my', 'name', 'is', 'Sanket']\n"
          ]
        }
      ]
    },
    {
      "cell_type": "code",
      "source": [
        "lst[lst.index(\"my\")]=\"My\"\n",
        "print(lst)"
      ],
      "metadata": {
        "colab": {
          "base_uri": "https://localhost:8080/"
        },
        "id": "MIbhkdK2FPnp",
        "outputId": "f9787e8f-67a0-470c-f51f-fa8e6396a589"
      },
      "execution_count": 4,
      "outputs": [
        {
          "output_type": "stream",
          "name": "stdout",
          "text": [
            "['My', 'name', 'is', 'Sanket']\n"
          ]
        }
      ]
    },
    {
      "cell_type": "code",
      "source": [],
      "metadata": {
        "id": "W8gUQuNDFmX8"
      },
      "execution_count": null,
      "outputs": []
    },
    {
      "cell_type": "code",
      "source": [],
      "metadata": {
        "id": "j_KdHUHOFwhS"
      },
      "execution_count": null,
      "outputs": []
    }
  ]
}