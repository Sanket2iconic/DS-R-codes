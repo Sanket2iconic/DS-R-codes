{
  "nbformat": 4,
  "nbformat_minor": 0,
  "metadata": {
    "colab": {
      "provenance": [],
      "authorship_tag": "ABX9TyOHYh5H8H4qnas2KJLOV3mX",
      "include_colab_link": true
    },
    "kernelspec": {
      "name": "python3",
      "display_name": "Python 3"
    },
    "language_info": {
      "name": "python"
    }
  },
  "cells": [
    {
      "cell_type": "markdown",
      "metadata": {
        "id": "view-in-github",
        "colab_type": "text"
      },
      "source": [
        "<a href=\"https://colab.research.google.com/github/Sanket2iconic/Google-colab-files/blob/main/List_Tuples.ipynb\" target=\"_parent\"><img src=\"https://colab.research.google.com/assets/colab-badge.svg\" alt=\"Open In Colab\"/></a>"
      ]
    },
    {
      "cell_type": "code",
      "execution_count": 1,
      "metadata": {
        "id": "CVP9hDoBQusW"
      },
      "outputs": [],
      "source": [
        "my_list=[1,2,3,4,5]"
      ]
    },
    {
      "cell_type": "code",
      "source": [
        "my_list"
      ],
      "metadata": {
        "colab": {
          "base_uri": "https://localhost:8080/"
        },
        "id": "aQ6eRnoQQ6CT",
        "outputId": "a1bca3b8-4b34-4e5e-de53-54b22675247b"
      },
      "execution_count": 2,
      "outputs": [
        {
          "output_type": "execute_result",
          "data": {
            "text/plain": [
              "[1, 2, 3, 4, 5]"
            ]
          },
          "metadata": {},
          "execution_count": 2
        }
      ]
    },
    {
      "cell_type": "code",
      "source": [
        "type(my_list)"
      ],
      "metadata": {
        "colab": {
          "base_uri": "https://localhost:8080/"
        },
        "id": "o9kXEQ6HQ815",
        "outputId": "f6f64efe-22f7-48d9-b2e7-1acc64166b91"
      },
      "execution_count": 3,
      "outputs": [
        {
          "output_type": "execute_result",
          "data": {
            "text/plain": [
              "list"
            ]
          },
          "metadata": {},
          "execution_count": 3
        }
      ]
    },
    {
      "cell_type": "markdown",
      "source": [
        "# lists can actually hold different object types"
      ],
      "metadata": {
        "id": "EVEVJy_lRHyl"
      }
    },
    {
      "cell_type": "code",
      "source": [
        "my_list = ['A string',23,100.232,'o',True]"
      ],
      "metadata": {
        "id": "ruhIc794RCoX"
      },
      "execution_count": 4,
      "outputs": []
    },
    {
      "cell_type": "code",
      "source": [
        "my_list"
      ],
      "metadata": {
        "colab": {
          "base_uri": "https://localhost:8080/"
        },
        "id": "MuJZzc8eRNDz",
        "outputId": "d387fea4-86df-42b5-accc-93d199842701"
      },
      "execution_count": 5,
      "outputs": [
        {
          "output_type": "execute_result",
          "data": {
            "text/plain": [
              "['A string', 23, 100.232, 'o', True]"
            ]
          },
          "metadata": {},
          "execution_count": 5
        }
      ]
    },
    {
      "cell_type": "markdown",
      "source": [
        "#  lists are mutable"
      ],
      "metadata": {
        "id": "37gkSfTJRWtR"
      }
    },
    {
      "cell_type": "code",
      "source": [
        "# create a list\n",
        "my_list = [1, 2, 3, 4, 5]\n",
        "\n",
        "# modify the list\n",
        "my_list[0] = 10\n",
        "\n",
        "# print out the modified list\n",
        "print(my_list)"
      ],
      "metadata": {
        "colab": {
          "base_uri": "https://localhost:8080/"
        },
        "id": "gFVqkbcYROnw",
        "outputId": "544d4776-92fb-40a7-d5dc-d11681c21b88"
      },
      "execution_count": 6,
      "outputs": [
        {
          "output_type": "stream",
          "name": "stdout",
          "text": [
            "[10, 2, 3, 4, 5]\n"
          ]
        }
      ]
    },
    {
      "cell_type": "markdown",
      "source": [
        "Some Basic List\n",
        "Functions"
      ],
      "metadata": {
        "id": "TDzBA8A3Rsqg"
      }
    },
    {
      "cell_type": "markdown",
      "source": [
        "sum()\n",
        "len()"
      ],
      "metadata": {
        "id": "Zr6sFwA8SaL7"
      }
    },
    {
      "cell_type": "code",
      "source": [
        "# List of student marks\n",
        "\n",
        "marks = [87, 76, 95, 68, 80, 83, 92, 74, 79, 89]\n",
        "\n",
        "\n",
        "# Calculate the mean of the marks. Use list functions.\n",
        "mean_marks = sum(marks)/len(marks)\n",
        "\n",
        "\n",
        "print(mean_marks)\n"
      ],
      "metadata": {
        "colab": {
          "base_uri": "https://localhost:8080/"
        },
        "id": "6_K9TdB-SUO6",
        "outputId": "ebfe6d36-f5e3-42fe-c10a-c2c82feb21be"
      },
      "execution_count": 8,
      "outputs": [
        {
          "output_type": "stream",
          "name": "stdout",
          "text": [
            "82.3\n"
          ]
        }
      ]
    },
    {
      "cell_type": "markdown",
      "source": [
        "Statement -1: Lists in Python are ordered collections of elements, and the elements in a list must be of the same data type. True or False?\n",
        "\n",
        "ChatGPT\n",
        "False.\n",
        "\n",
        "In Python, lists are indeed ordered collections of elements, but the elements in a list do not need to be of the same data type. A single list can contain a mix of integers, strings, floats, objects, and other data types. For example:\n",
        "\n",
        "python\n",
        "Copy code\n",
        "my_list = [1, \"Hello\", 3.14, True]\n",
        "This list contains an integer, a string, a float, and a boolean, demonstrating that Python lists can hold elements of varying data types.\n",
        "\n",
        "Statement-3: When you modify a list that is assigned to another variable, both the original list and the new variable will reflect the changes, as they point to the same list object in memory. True or False?\n",
        "\n",
        "ChatGPT\n",
        "True.\n",
        "\n",
        "In Python, when you assign a list to another variable, both variables refer to the same list object in memory. Therefore, any modifications made to the list through either variable will be reflected in both. For example:\n",
        "\n",
        "python\n",
        "Copy code\n",
        "original_list = [1, 2, 3]\n",
        "new_list = original_list\n",
        "new_list.append(4)\n",
        "\n",
        "print(original_list)  # Output: [1, 2, 3, 4]\n",
        "print(new_list)       # Output: [1, 2, 3, 4]\n",
        "In this example, original_list and new_list both point to the same list in memory. Modifying the list through new_list also changes original_list.\n",
        "\n",
        "Statement-5: The 'len()' function and the 'count()' method both can be used to find the number of elements in a list. True or False?\n",
        "\n",
        "ChatGPT\n",
        "False.\n",
        "\n",
        "The len() function is used to find the number of elements in a list, while the count() method is used to count the number of occurrences of a specific element within the list. They serve different purposes. For example:\n",
        "\n",
        "python\n",
        "Copy code\n",
        "my_list = [1, 2, 2, 3, 4]\n",
        "\n",
        "# len() function\n",
        "print(len(my_list))  # Output: 5\n",
        "\n",
        "# count() method\n",
        "print(my_list.count(2))  # Output: 2\n",
        "Here, len(my_list) returns the total number of elements in the list, which is 5, while my_list.count(2) returns the number of times the value 2 appears in the list, which is 2.\n",
        "\n",
        "\n",
        "\n",
        "\n",
        "\n",
        "\n",
        "\n"
      ],
      "metadata": {
        "id": "nvgpeRoOTH2y"
      }
    },
    {
      "cell_type": "code",
      "source": [],
      "metadata": {
        "id": "RIL4I8FgScpP"
      },
      "execution_count": null,
      "outputs": []
    }
  ]
}