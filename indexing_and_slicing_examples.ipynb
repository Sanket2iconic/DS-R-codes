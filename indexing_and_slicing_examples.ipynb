{
  "nbformat": 4,
  "nbformat_minor": 0,
  "metadata": {
    "colab": {
      "provenance": [],
      "authorship_tag": "ABX9TyPvR1lloyMMPFLgNH0Czfqt",
      "include_colab_link": true
    },
    "kernelspec": {
      "name": "python3",
      "display_name": "Python 3"
    },
    "language_info": {
      "name": "python"
    }
  },
  "cells": [
    {
      "cell_type": "markdown",
      "metadata": {
        "id": "view-in-github",
        "colab_type": "text"
      },
      "source": [
        "<a href=\"https://colab.research.google.com/github/Sanket2iconic/Google-colab-files/blob/main/indexing_and_slicing_examples.ipynb\" target=\"_parent\"><img src=\"https://colab.research.google.com/assets/colab-badge.svg\" alt=\"Open In Colab\"/></a>"
      ]
    },
    {
      "cell_type": "markdown",
      "source": [
        "Write a Python program to check whether the given strings are palindromes or not. Return True otherwise False.\n",
        "\n",
        "Example 1:\n",
        "Input:\n",
        "palindrome\n",
        "\n",
        "Output:\n",
        "False"
      ],
      "metadata": {
        "id": "EcfL_Kl_fTkw"
      }
    },
    {
      "cell_type": "code",
      "execution_count": 1,
      "metadata": {
        "colab": {
          "base_uri": "https://localhost:8080/"
        },
        "id": "_3pf53CafO3S",
        "outputId": "cd084275-555b-4769-d211-a8665cd617f3"
      },
      "outputs": [
        {
          "output_type": "stream",
          "name": "stdout",
          "text": [
            "palindrome\n",
            "False\n"
          ]
        }
      ],
      "source": [
        "# Take the input from the user\n",
        "s = input()\n",
        "s1=s[::-1]\n",
        "if s==s1:\n",
        "  print(\"True\")\n",
        "else:\n",
        "  print(\"False\")"
      ]
    },
    {
      "cell_type": "code",
      "source": [
        "s = input()\n",
        "s1=s[::-1]\n",
        "if s==s1:\n",
        "  print(\"True\")\n",
        "else:\n",
        "  print(\"False\")"
      ],
      "metadata": {
        "colab": {
          "base_uri": "https://localhost:8080/"
        },
        "id": "7M0J9uNvfZUC",
        "outputId": "048eaf8d-cc90-48d4-a310-523438d8b98f"
      },
      "execution_count": 2,
      "outputs": [
        {
          "output_type": "stream",
          "name": "stdout",
          "text": [
            "rubbur\n",
            "True\n"
          ]
        }
      ]
    },
    {
      "cell_type": "code",
      "source": [
        "5+(-1)"
      ],
      "metadata": {
        "colab": {
          "base_uri": "https://localhost:8080/"
        },
        "id": "gMVZZ1NrffkM",
        "outputId": "a278341b-add5-465e-85a9-7b58313bb7a5"
      },
      "execution_count": 3,
      "outputs": [
        {
          "output_type": "execute_result",
          "data": {
            "text/plain": [
              "4"
            ]
          },
          "metadata": {},
          "execution_count": 3
        }
      ]
    },
    {
      "cell_type": "code",
      "source": [
        "lst_orig = [1, 2, 3, 4, 5, 6, 7, 8, 9]\n",
        "lst_modify=[10, 20, 30]\n",
        "index=int(input())\n",
        "new=lst_orig[:index]+lst_modify+lst_orig[index+len(lst_modify):]\n",
        "print(new)"
      ],
      "metadata": {
        "colab": {
          "base_uri": "https://localhost:8080/"
        },
        "id": "_jl7dHSZgbHh",
        "outputId": "1ac316f7-9fed-4793-8d00-4960f1cadbf0"
      },
      "execution_count": 4,
      "outputs": [
        {
          "output_type": "stream",
          "name": "stdout",
          "text": [
            "1\n",
            "[1, 10, 20, 30, 5, 6, 7, 8, 9]\n"
          ]
        }
      ]
    },
    {
      "cell_type": "code",
      "source": [],
      "metadata": {
        "id": "y_8EHRNjm9c6"
      },
      "execution_count": null,
      "outputs": []
    },
    {
      "cell_type": "markdown",
      "source": [
        "Given two lists as inputs, write a python program to add the elements of the second list on to the first list at the index location 1.\n",
        "\n",
        "Example 1:\n",
        "Input:\n",
        "[1, 2, 3, 4, 5, 6, 7, 8, 9]\n",
        "\n",
        "[10, 20, 30]\n",
        "\n",
        "Output:\n",
        "[1, 10, 20, 30, 5, 6, 7, 8, 9]"
      ],
      "metadata": {
        "id": "43kuAeFBn_r2"
      }
    },
    {
      "cell_type": "code",
      "source": [
        "# Write your code here\n",
        "\n",
        "# Take the lists in variable\n",
        "lst_orig = eval(input())\n",
        "lst_modify=eval(input())\n",
        "new=lst_orig[:1]+lst_modify+lst_orig[(len(lst_modify))+1:]\n",
        "print(new)"
      ],
      "metadata": {
        "colab": {
          "base_uri": "https://localhost:8080/"
        },
        "id": "rDktdClzoBP5",
        "outputId": "eb91701b-461b-4eca-839c-0fc7b48ed455"
      },
      "execution_count": 6,
      "outputs": [
        {
          "output_type": "stream",
          "name": "stdout",
          "text": [
            "1,2,3,4,5,6,7,8,9\n",
            "10,20,30\n",
            "(1, 10, 20, 30, 5, 6, 7, 8, 9)\n"
          ]
        }
      ]
    },
    {
      "cell_type": "code",
      "source": [],
      "metadata": {
        "id": "DwvySGLcoDxX"
      },
      "execution_count": null,
      "outputs": []
    }
  ]
}