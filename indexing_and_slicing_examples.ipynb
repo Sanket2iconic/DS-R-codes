{
  "nbformat": 4,
  "nbformat_minor": 0,
  "metadata": {
    "colab": {
      "provenance": [],
      "authorship_tag": "ABX9TyOYfKDWykJmYEMkdtM3XkOh",
      "include_colab_link": true
    },
    "kernelspec": {
      "name": "python3",
      "display_name": "Python 3"
    },
    "language_info": {
      "name": "python"
    }
  },
  "cells": [
    {
      "cell_type": "markdown",
      "metadata": {
        "id": "view-in-github",
        "colab_type": "text"
      },
      "source": [
        "<a href=\"https://colab.research.google.com/github/Sanket2iconic/Google-colab-files/blob/main/indexing_and_slicing_examples.ipynb\" target=\"_parent\"><img src=\"https://colab.research.google.com/assets/colab-badge.svg\" alt=\"Open In Colab\"/></a>"
      ]
    },
    {
      "cell_type": "markdown",
      "source": [
        "Write a Python program to check whether the given strings are palindromes or not. Return True otherwise False.\n",
        "\n",
        "Example 1:\n",
        "Input:\n",
        "palindrome\n",
        "\n",
        "Output:\n",
        "False"
      ],
      "metadata": {
        "id": "EcfL_Kl_fTkw"
      }
    },
    {
      "cell_type": "code",
      "execution_count": 1,
      "metadata": {
        "colab": {
          "base_uri": "https://localhost:8080/"
        },
        "id": "_3pf53CafO3S",
        "outputId": "cd084275-555b-4769-d211-a8665cd617f3"
      },
      "outputs": [
        {
          "output_type": "stream",
          "name": "stdout",
          "text": [
            "palindrome\n",
            "False\n"
          ]
        }
      ],
      "source": [
        "# Take the input from the user\n",
        "s = input()\n",
        "s1=s[::-1]\n",
        "if s==s1:\n",
        "  print(\"True\")\n",
        "else:\n",
        "  print(\"False\")"
      ]
    },
    {
      "cell_type": "code",
      "source": [
        "s = input()\n",
        "s1=s[::-1]\n",
        "if s==s1:\n",
        "  print(\"True\")\n",
        "else:\n",
        "  print(\"False\")"
      ],
      "metadata": {
        "colab": {
          "base_uri": "https://localhost:8080/"
        },
        "id": "7M0J9uNvfZUC",
        "outputId": "048eaf8d-cc90-48d4-a310-523438d8b98f"
      },
      "execution_count": 2,
      "outputs": [
        {
          "output_type": "stream",
          "name": "stdout",
          "text": [
            "rubbur\n",
            "True\n"
          ]
        }
      ]
    },
    {
      "cell_type": "code",
      "source": [],
      "metadata": {
        "id": "gMVZZ1NrffkM"
      },
      "execution_count": null,
      "outputs": []
    }
  ]
}