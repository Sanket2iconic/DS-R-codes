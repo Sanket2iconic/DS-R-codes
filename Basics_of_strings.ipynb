{
  "nbformat": 4,
  "nbformat_minor": 0,
  "metadata": {
    "colab": {
      "provenance": [],
      "authorship_tag": "ABX9TyMcET/58E4p0E87yqe/+CbG",
      "include_colab_link": true
    },
    "kernelspec": {
      "name": "python3",
      "display_name": "Python 3"
    },
    "language_info": {
      "name": "python"
    }
  },
  "cells": [
    {
      "cell_type": "markdown",
      "metadata": {
        "id": "view-in-github",
        "colab_type": "text"
      },
      "source": [
        "<a href=\"https://colab.research.google.com/github/Sanket2iconic/Google-colab-files/blob/main/Basics_of_strings.ipynb\" target=\"_parent\"><img src=\"https://colab.research.google.com/assets/colab-badge.svg\" alt=\"Open In Colab\"/></a>"
      ]
    },
    {
      "cell_type": "code",
      "execution_count": 5,
      "metadata": {
        "colab": {
          "base_uri": "https://localhost:8080/"
        },
        "id": "G62GQiJ_UNaY",
        "outputId": "4447debd-5ed0-467e-bf0f-c7f494d87298"
      },
      "outputs": [
        {
          "output_type": "stream",
          "name": "stdout",
          "text": [
            "My name is Sanket\n"
          ]
        }
      ],
      "source": [
        "def my_first_string():\n",
        "    return \"My name is Sanket\"\n",
        "\n",
        "\n",
        "print(my_first_string())"
      ]
    },
    {
      "cell_type": "code",
      "source": [],
      "metadata": {
        "id": "DueV__ZeUeNL"
      },
      "execution_count": null,
      "outputs": []
    }
  ]
}