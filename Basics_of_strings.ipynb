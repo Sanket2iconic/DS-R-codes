{
  "nbformat": 4,
  "nbformat_minor": 0,
  "metadata": {
    "colab": {
      "provenance": [],
      "authorship_tag": "ABX9TyNb+LDYaKFTEiSazD3remDd",
      "include_colab_link": true
    },
    "kernelspec": {
      "name": "python3",
      "display_name": "Python 3"
    },
    "language_info": {
      "name": "python"
    }
  },
  "cells": [
    {
      "cell_type": "markdown",
      "metadata": {
        "id": "view-in-github",
        "colab_type": "text"
      },
      "source": [
        "<a href=\"https://colab.research.google.com/github/Sanket2iconic/Google-colab-files/blob/main/Basics_of_strings.ipynb\" target=\"_parent\"><img src=\"https://colab.research.google.com/assets/colab-badge.svg\" alt=\"Open In Colab\"/></a>"
      ]
    },
    {
      "cell_type": "code",
      "execution_count": 5,
      "metadata": {
        "colab": {
          "base_uri": "https://localhost:8080/"
        },
        "id": "G62GQiJ_UNaY",
        "outputId": "4447debd-5ed0-467e-bf0f-c7f494d87298"
      },
      "outputs": [
        {
          "output_type": "stream",
          "name": "stdout",
          "text": [
            "My name is Sanket\n"
          ]
        }
      ],
      "source": [
        "def my_first_string():\n",
        "    return \"My name is Sanket\"\n",
        "\n",
        "\n",
        "print(my_first_string())"
      ]
    },
    {
      "cell_type": "code",
      "source": [
        "def user_input():\n",
        "  return Text\n",
        "\n",
        "Text=input((\"Enter the Input text:\\n\"))\n",
        "print(user_input())\n"
      ],
      "metadata": {
        "colab": {
          "base_uri": "https://localhost:8080/"
        },
        "id": "DueV__ZeUeNL",
        "outputId": "dba536f2-03b6-4478-bd09-aafafe3875fc"
      },
      "execution_count": 51,
      "outputs": [
        {
          "output_type": "stream",
          "name": "stdout",
          "text": [
            "Enter the Input text:\n",
            "hello world\n",
            "hello world\n"
          ]
        }
      ]
    },
    {
      "cell_type": "code",
      "source": [
        "type(user_input)\n",
        "type(Text)"
      ],
      "metadata": {
        "colab": {
          "base_uri": "https://localhost:8080/"
        },
        "id": "ow8U-bVqW67Y",
        "outputId": "7b9852dd-2cf1-4e1f-9f5a-e362397adb3c"
      },
      "execution_count": 12,
      "outputs": [
        {
          "output_type": "execute_result",
          "data": {
            "text/plain": [
              "str"
            ]
          },
          "metadata": {},
          "execution_count": 12
        }
      ]
    },
    {
      "cell_type": "code",
      "source": [
        "# Backslash for quotes\n",
        "print('I\\'m fine. How are you?')"
      ],
      "metadata": {
        "colab": {
          "base_uri": "https://localhost:8080/"
        },
        "id": "7QGNtChaYxlA",
        "outputId": "e8a07853-ba9b-4194-d338-142e46c90fb2"
      },
      "execution_count": 13,
      "outputs": [
        {
          "output_type": "stream",
          "name": "stdout",
          "text": [
            "I'm fine. How are you?\n"
          ]
        }
      ]
    },
    {
      "cell_type": "code",
      "source": [
        "# Multiline String\n",
        "print('''\n",
        "Student : I\\'m fine. How are you?\n",
        "Instructor : I am doing fine\n",
        "''')"
      ],
      "metadata": {
        "colab": {
          "base_uri": "https://localhost:8080/"
        },
        "id": "xQdqj3HdZJ2g",
        "outputId": "4ad24c07-297a-4209-b2b4-c28cb30f7c35"
      },
      "execution_count": 14,
      "outputs": [
        {
          "output_type": "stream",
          "name": "stdout",
          "text": [
            "\n",
            "Student : I'm fine. How are you?\n",
            "Instructor : I am doing fine\n",
            "\n"
          ]
        }
      ]
    },
    {
      "cell_type": "code",
      "source": [
        "##Indexing"
      ],
      "metadata": {
        "id": "8b5WBSgyZP2g"
      },
      "execution_count": 15,
      "outputs": []
    },
    {
      "cell_type": "code",
      "source": [
        "name=\"My name is Anket\"\n",
        "name[11]"
      ],
      "metadata": {
        "colab": {
          "base_uri": "https://localhost:8080/",
          "height": 36
        },
        "id": "kOoEWOc9aO8F",
        "outputId": "03468021-7c18-49a0-d39d-7e1f2bde2e59"
      },
      "execution_count": 16,
      "outputs": [
        {
          "output_type": "execute_result",
          "data": {
            "text/plain": [
              "'A'"
            ],
            "application/vnd.google.colaboratory.intrinsic+json": {
              "type": "string"
            }
          },
          "metadata": {},
          "execution_count": 16
        }
      ]
    },
    {
      "cell_type": "code",
      "source": [
        "##Slicing\n",
        "name=name.replace('Anket','Sanket');"
      ],
      "metadata": {
        "id": "COi_PmmJaXTa"
      },
      "execution_count": 29,
      "outputs": []
    },
    {
      "cell_type": "code",
      "source": [
        "name"
      ],
      "metadata": {
        "colab": {
          "base_uri": "https://localhost:8080/",
          "height": 36
        },
        "id": "ieJ04FuIalcn",
        "outputId": "d1138a5b-ded8-44a7-f29a-5f48b3c5c30a"
      },
      "execution_count": 30,
      "outputs": [
        {
          "output_type": "execute_result",
          "data": {
            "text/plain": [
              "'My name is Sanket'"
            ],
            "application/vnd.google.colaboratory.intrinsic+json": {
              "type": "string"
            }
          },
          "metadata": {},
          "execution_count": 30
        }
      ]
    },
    {
      "cell_type": "code",
      "source": [
        "name"
      ],
      "metadata": {
        "colab": {
          "base_uri": "https://localhost:8080/",
          "height": 36
        },
        "id": "i02gDaT2a8FY",
        "outputId": "778285b9-0391-450b-e19c-b1f09effa7a4"
      },
      "execution_count": 31,
      "outputs": [
        {
          "output_type": "execute_result",
          "data": {
            "text/plain": [
              "'My name is Sanket'"
            ],
            "application/vnd.google.colaboratory.intrinsic+json": {
              "type": "string"
            }
          },
          "metadata": {},
          "execution_count": 31
        }
      ]
    },
    {
      "cell_type": "code",
      "source": [
        "## Print the length of the string\n",
        "len(name)"
      ],
      "metadata": {
        "colab": {
          "base_uri": "https://localhost:8080/"
        },
        "id": "QUEDjmLObbTU",
        "outputId": "45fdebaf-e90f-4386-a85e-280941b97b65"
      },
      "execution_count": 32,
      "outputs": [
        {
          "output_type": "execute_result",
          "data": {
            "text/plain": [
              "17"
            ]
          },
          "metadata": {},
          "execution_count": 32
        }
      ]
    },
    {
      "cell_type": "code",
      "source": [
        "name.count('Sanket')"
      ],
      "metadata": {
        "colab": {
          "base_uri": "https://localhost:8080/"
        },
        "id": "KjmF0RwmcpaN",
        "outputId": "dc977b28-493f-4cb6-e700-cd2a31e1deff"
      },
      "execution_count": 39,
      "outputs": [
        {
          "output_type": "execute_result",
          "data": {
            "text/plain": [
              "1"
            ]
          },
          "metadata": {},
          "execution_count": 39
        }
      ]
    },
    {
      "cell_type": "code",
      "source": [
        "##example\n",
        "books = \"Python for Everyone, Learn Python the Hard Way, Python Crash Course , Starting Out with Python, Automate the Boring Stuff with Python\"\n",
        "##aim is to find the number of 'e's\n",
        "print(\"Total number of 'e's in the book\\n\", books.count('e'))"
      ],
      "metadata": {
        "colab": {
          "base_uri": "https://localhost:8080/"
        },
        "id": "3d0Ix7ygc6TI",
        "outputId": "d1dd865f-1c9d-4d7c-cb56-ad233098185b"
      },
      "execution_count": 44,
      "outputs": [
        {
          "output_type": "stream",
          "name": "stdout",
          "text": [
            "Total number of 'e's in the book\n",
            " 7\n"
          ]
        }
      ]
    },
    {
      "cell_type": "code",
      "source": [
        "#but missed to count E, make all lower\n",
        "print(\"Total number of 'e's in the book\\n\", books.lower().count('e'))"
      ],
      "metadata": {
        "colab": {
          "base_uri": "https://localhost:8080/"
        },
        "id": "Xszx6-8SdpK5",
        "outputId": "c83aaa9e-4370-4d80-c253-43072fe04908"
      },
      "execution_count": 45,
      "outputs": [
        {
          "output_type": "stream",
          "name": "stdout",
          "text": [
            "Total number of 'e's in the book\n",
            " 8\n"
          ]
        }
      ]
    },
    {
      "cell_type": "code",
      "source": [
        "##Find the error in the code\n",
        "'''num_str = \"25\"\n",
        "result = num_str + 5\n",
        "print(result)'''\n",
        "\n",
        "num_str = \"25\"\n",
        "num=int(num_str)\n",
        "result = num+ 5\n",
        "print(result)"
      ],
      "metadata": {
        "colab": {
          "base_uri": "https://localhost:8080/"
        },
        "id": "TmcIFZMxeTxD",
        "outputId": "82b4707f-9d5a-4f3f-f5d8-730d71d1a10b"
      },
      "execution_count": 50,
      "outputs": [
        {
          "output_type": "stream",
          "name": "stdout",
          "text": [
            "30\n"
          ]
        }
      ]
    },
    {
      "cell_type": "code",
      "source": [],
      "metadata": {
        "id": "qbndJysjepe6"
      },
      "execution_count": null,
      "outputs": []
    }
  ]
}