{
  "nbformat": 4,
  "nbformat_minor": 0,
  "metadata": {
    "colab": {
      "provenance": [],
      "authorship_tag": "ABX9TyPx6AHBcmGl6YoiIge9vr58",
      "include_colab_link": true
    },
    "kernelspec": {
      "name": "python3",
      "display_name": "Python 3"
    },
    "language_info": {
      "name": "python"
    }
  },
  "cells": [
    {
      "cell_type": "markdown",
      "metadata": {
        "id": "view-in-github",
        "colab_type": "text"
      },
      "source": [
        "<a href=\"https://colab.research.google.com/github/Sanket2iconic/Google-colab-files/blob/main/Operators_in_Data_Types_assignment.ipynb\" target=\"_parent\"><img src=\"https://colab.research.google.com/assets/colab-badge.svg\" alt=\"Open In Colab\"/></a>"
      ]
    },
    {
      "cell_type": "markdown",
      "source": [
        "Write a Python program to test whether a number is within 100 of 1000 or 2000.\n",
        "\n",
        "Example 1:\n",
        "Input:\n",
        "1000"
      ],
      "metadata": {
        "id": "1SVar6A0g3SV"
      }
    },
    {
      "cell_type": "code",
      "execution_count": 1,
      "metadata": {
        "colab": {
          "base_uri": "https://localhost:8080/"
        },
        "id": "iSrWsO1ccos8",
        "outputId": "10169cb6-3338-4e78-c1b4-5bfe9499fb49"
      },
      "outputs": [
        {
          "output_type": "stream",
          "name": "stdout",
          "text": [
            "1000\n",
            "True\n"
          ]
        }
      ],
      "source": [
        "# Take the input from the user\n",
        "n = int(input())\n",
        "if abs(1000 - n) <= 100 or abs(2000 - n) <= 100:\n",
        "    print(\"True\")\n",
        "else:\n",
        "    print(\"False\")"
      ]
    },
    {
      "cell_type": "markdown",
      "source": [
        "Write a Python program to compute the future value of a specified principal amount, rate of interest, and a number of years.\n",
        "\n",
        "The formula for future value with compound interest is FV = P(1 + r/n)^nt. FV = the future value; P = the principal; r = the annual interest rate expressed as a decimal; n = the number of times interest is paid each year; t = time in years.\n",
        "\n",
        "Test Data : amt = 10000, int = 3.5, years = 7"
      ],
      "metadata": {
        "id": "yy5LpuxUgtV5"
      }
    },
    {
      "cell_type": "code",
      "source": [
        "# Take the input from the user\n",
        "amt = float(input())\n",
        "intr = float(input())\n",
        "years = float(input())\n",
        "annual_rate=intr/100\n",
        "times_compounded=1\n",
        "FV=amt * (1 + annual_rate / times_compounded) ** (times_compounded * years)\n",
        "print(FV)"
      ],
      "metadata": {
        "id": "KRzAovGZeHhw"
      },
      "execution_count": null,
      "outputs": []
    },
    {
      "cell_type": "markdown",
      "source": [
        "rint data types of all variables in desired format..\n",
        "\n",
        "Example 1:\n",
        "Input:\n",
        "intg = 1452\n",
        "\n",
        "flot = 11.23\n",
        "\n",
        "cmplx = 1+2j\n",
        "\n",
        "booln = True\n",
        "\n",
        "strng = 'Python'\n",
        "\n",
        "tpl = (0,-1)\n",
        "\n",
        "lst = [5,12]\n",
        "\n",
        "dct = {'class': 'V', 'section': 'A'}\n"
      ],
      "metadata": {
        "id": "-n04PH2hgxkA"
      }
    },
    {
      "cell_type": "code",
      "source": [
        "# Take the inputs\n",
        "intg = 1452\n",
        "flot = 11.23\n",
        "cmplx = 1+2j\n",
        "booln = True\n",
        "strng = 'Python'\n",
        "tpl = (0,-1)\n",
        "lst = [5,12]\n",
        "dct = {'class': 'V', 'section': 'A'}\n",
        "print(\"Type of\",intg,\"is\",(type(intg)))\n",
        "print(\"Type of\",flot,\"is\",(type(flot)))\n",
        "print(\"Type of\",cmplx,\"is\",(type(cmplx)))\n",
        "print(\"Type of\",booln,\"is\",(type(booln)))\n",
        "print(\"Type of\",strng,\"is\",(type(strng)))\n",
        "print(\"Type of\",tpl,\"is\",(type(tpl)))\n",
        "print(\"Type of\",lst,\"is\",(type(lst)))\n",
        "print(\"Type of\",dct,\"is\",(type(dct)))"
      ],
      "metadata": {
        "colab": {
          "base_uri": "https://localhost:8080/"
        },
        "id": "b1NVQVAdic3Q",
        "outputId": "9686b747-ab98-4da7-fc7c-dc79132d0c30"
      },
      "execution_count": 4,
      "outputs": [
        {
          "output_type": "stream",
          "name": "stdout",
          "text": [
            "Type of 1452 is <class 'int'>\n",
            "Type of 11.23 is <class 'float'>\n",
            "Type of (1+2j) is <class 'complex'>\n",
            "Type of True is <class 'bool'>\n",
            "Type of Python is <class 'str'>\n",
            "Type of (0, -1) is <class 'tuple'>\n",
            "Type of [5, 12] is <class 'list'>\n",
            "Type of {'class': 'V', 'section': 'A'} is <class 'dict'>\n"
          ]
        }
      ]
    },
    {
      "cell_type": "code",
      "source": [],
      "metadata": {
        "id": "ssoB_tSFifSm"
      },
      "execution_count": null,
      "outputs": []
    }
  ]
}